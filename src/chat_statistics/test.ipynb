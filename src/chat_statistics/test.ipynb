{
 "cells": [
  {
   "cell_type": "code",
   "execution_count": 1,
   "id": "d335da47-427c-4307-ba70-50e11c18b5c2",
   "metadata": {},
   "outputs": [],
   "source": [
    "#Importing required libraries\n",
    "import json\n",
    "from collections import Counter\n",
    "from hazm import *\n",
    "import arabic_reshaper\n",
    "from bidi.algorithm import get_display\n",
    "from wordcloud import WordCloud"
   ]
  },
  {
   "cell_type": "code",
   "execution_count": 22,
   "id": "ee13e709-cb87-43bd-8f9e-828bb6fba687",
   "metadata": {},
   "outputs": [],
   "source": [
    "#Loading the json file\n",
    "with open(\"../data/Pyfun/result.json\") as f:\n",
    "    data = json.load(f)\n",
    "\n",
    "#Loading the persian stop words file\n",
    "stopwords =  open(\"PersianStopWords.txt\").readlines()\n",
    "stopwords = list(map(str.strip,stopwords))\n",
    "\n",
    "#Noarmalizing the stop wrods\n",
    "normalize = Normalizer()\n",
    "stopwords = list(map(normalize.normalize,stopwords))"
   ]
  },
  {
   "cell_type": "code",
   "execution_count": 26,
   "id": "4cf80b14-372f-4335-97c8-0768dd4cbc31",
   "metadata": {},
   "outputs": [],
   "source": [
    "#Extracting the messages\n",
    "msg = data[\"messages\"]\n",
    "text = \"\"\n",
    "for i in range(len(msg)):\n",
    "    if type(msg[i][\"text\"]) is str:\n",
    "        text += msg[i][\"text\"] + \" \"\n",
    "\n",
    "#Normalizing the messages\n",
    "normalizing = Normalizer()\n",
    "normalized_text = normalizing.normalize(text)\n",
    "\n",
    "#Tokenizing\n",
    "tokens = word_tokenize(normalized_text)\n",
    "\n",
    "#Removing stop wrods from tokens list\n",
    "pur_token = list(filter(lambda item: item not in stopwords,tokens))\n",
    "\n",
    "# Merging the pur tokens\n",
    "tokenized_text = \"\"\n",
    "for token, freq in Counter(pur_token).most_common()[:100]:\n",
    "    tokenized_text += f\"{token} \" * freq\n",
    "\n",
    "# Make text readable for a non-Arabic library like wordcloud\n",
    "try:\n",
    "    arabic_text = arabic_reshaper.reshape(tokenized_text)\n",
    "    arabic_text = get_display(text)\n",
    "except AssertionError:\n",
    "    pass    "
   ]
  },
  {
   "cell_type": "code",
   "execution_count": null,
   "id": "dba53c40-9d77-4ebc-88fa-d3f83ccc41b2",
   "metadata": {},
   "outputs": [],
   "source": [
    "#Make a word cloud\n",
    "wordcloud = WordCloud(font_path='fonts/Noto_Naskh_Arabic/NotoNaskhArabic-VariableFont_wght.ttf',\n",
    "background_color=\"white\",\n",
    "width=1200,\n",
    "height=1200\n",
    ").generate(arabic_text)\n",
    "\n",
    "# Export to an image\n",
    "wordcloud.to_file(\"arabic_example.png\")"
   ]
  }
 ],
 "metadata": {
  "kernelspec": {
   "display_name": "Python 3 (ipykernel)",
   "language": "python",
   "name": "python3"
  },
  "language_info": {
   "codemirror_mode": {
    "name": "ipython",
    "version": 3
   },
   "file_extension": ".py",
   "mimetype": "text/x-python",
   "name": "python",
   "nbconvert_exporter": "python",
   "pygments_lexer": "ipython3",
   "version": "3.7.11"
  }
 },
 "nbformat": 4,
 "nbformat_minor": 5
}
